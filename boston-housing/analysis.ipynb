{
  "cells": [
    {
      "cell_type": "markdown",
      "metadata": {
        "id": "p4nbdvgqIKpa"
      },
      "source": [
        "# Modeling study with MARS and neural networks\n",
        "\n",
        "Guillaume Thibault \n",
        "\n",
        "`Using Python`\n",
        "\n",
        "\n",
        "Aims to study the relationship between 11 quality of life indicators and the value of a residence"
      ]
    },
    {
      "cell_type": "code",
      "source": [
        "!python --version"
      ],
      "metadata": {
        "id": "Pclh7v19Md6o"
      },
      "execution_count": null,
      "outputs": []
    },
    {
      "cell_type": "code",
      "source": [
        "#install python 3.9\n",
        "!sudo apt-get update -y\n",
        "!sudo apt-get install python3.9\n",
        "\n",
        "#change alternatives\n",
        "!sudo update-alternatives --install /usr/bin/python3 python3 /usr/bin/python3.8 1\n",
        "!sudo update-alternatives --install /usr/bin/python3 python3 /usr/bin/python3.9 2\n",
        "\n",
        "#check python version\n",
        "!python --version"
      ],
      "metadata": {
        "id": "VLAlNbpwMg-m"
      },
      "execution_count": null,
      "outputs": []
    },
    {
      "cell_type": "code",
      "source": [
        "# install pip for new python \n",
        "!sudo apt-get install python3.9-distutils\n",
        "!wget https://bootstrap.pypa.io/get-pip.py\n",
        "!python get-pip.py\n",
        "\n",
        "# install colab's dependencies\n",
        "!python -m pip install ipython ipython_genutils ipykernel jupyter_console prompt_toolkit httplib2 astor\n",
        "\n",
        "# link to the old google package\n",
        "!ln -s /usr/local/lib/python3.8/dist-packages/google \\\n",
        "       /usr/local/lib/python3.9/dist-packages/google"
      ],
      "metadata": {
        "id": "Ok762oKdMnkg"
      },
      "execution_count": null,
      "outputs": []
    },
    {
      "cell_type": "markdown",
      "source": [
        "Now you can restart runtime and check the sys version.\n",
        "\n",
        "---"
      ],
      "metadata": {
        "id": "fsn_6QnYMtfZ"
      }
    },
    {
      "cell_type": "code",
      "source": [
        "!sudo update-alternatives --config python3"
      ],
      "metadata": {
        "id": "0UKx5opRNHhV"
      },
      "execution_count": null,
      "outputs": []
    },
    {
      "cell_type": "markdown",
      "source": [
        "---"
      ],
      "metadata": {
        "id": "1Pe486MDNK83"
      }
    },
    {
      "cell_type": "code",
      "source": [
        "%git clone https://github.com/scikit-learn-contrib/py-earth.git\n",
        "%cd py-eartg\n",
        "%sudo python setup.py install"
      ],
      "metadata": {
        "id": "XVK16w70JRqL"
      },
      "execution_count": null,
      "outputs": []
    },
    {
      "cell_type": "code",
      "source": [
        "!sudo python setup.py install"
      ],
      "metadata": {
        "id": "KoYwpMIVKf08"
      },
      "execution_count": null,
      "outputs": []
    },
    {
      "cell_type": "code",
      "source": [
        "!python --version"
      ],
      "metadata": {
        "id": "aWocZRQAL9-5",
        "outputId": "afe0fd98-dcda-4b0a-a141-f152d88aab26",
        "colab": {
          "base_uri": "https://localhost:8080/"
        }
      },
      "execution_count": 23,
      "outputs": [
        {
          "output_type": "stream",
          "name": "stdout",
          "text": [
            "Python 3.8.10\n"
          ]
        }
      ]
    },
    {
      "cell_type": "code",
      "source": [
        "!apt-get install build-essential libssl-dev libffi-dev python-dev"
      ],
      "metadata": {
        "id": "20LlP5nJKphe",
        "outputId": "b4d68453-4865-4a32-8c8b-3571754b09bd",
        "colab": {
          "base_uri": "https://localhost:8080/"
        }
      },
      "execution_count": 21,
      "outputs": [
        {
          "output_type": "stream",
          "name": "stdout",
          "text": [
            "Reading package lists... Done\n",
            "Building dependency tree       \n",
            "Reading state information... Done\n",
            "Note, selecting 'python-dev-is-python2' instead of 'python-dev'\n",
            "build-essential is already the newest version (12.8ubuntu1.1).\n",
            "libssl-dev is already the newest version (1.1.1f-1ubuntu2.17).\n",
            "The following additional packages will be installed:\n",
            "  libpython2-dev libpython2-stdlib libpython2.7 libpython2.7-dev\n",
            "  python-is-python2 python2 python2-dev python2-minimal python2.7-dev\n",
            "Suggested packages:\n",
            "  python2-doc python-tk\n",
            "The following NEW packages will be installed:\n",
            "  libffi-dev libpython2-dev libpython2-stdlib libpython2.7 libpython2.7-dev\n",
            "  python-dev-is-python2 python-is-python2 python2 python2-dev python2-minimal\n",
            "  python2.7-dev\n",
            "0 upgraded, 11 newly installed, 0 to remove and 19 not upgraded.\n",
            "Need to get 3,927 kB of archives.\n",
            "After this operation, 18.3 MB of additional disk space will be used.\n",
            "Get:1 http://archive.ubuntu.com/ubuntu focal/universe amd64 python2-minimal amd64 2.7.17-2ubuntu4 [27.5 kB]\n",
            "Get:2 http://archive.ubuntu.com/ubuntu focal/universe amd64 libpython2-stdlib amd64 2.7.17-2ubuntu4 [7,072 B]\n",
            "Get:3 http://archive.ubuntu.com/ubuntu focal/universe amd64 python2 amd64 2.7.17-2ubuntu4 [26.5 kB]\n",
            "Get:4 http://archive.ubuntu.com/ubuntu focal-updates/universe amd64 libpython2.7 amd64 2.7.18-1~20.04.3 [1,037 kB]\n",
            "Get:5 http://archive.ubuntu.com/ubuntu focal-updates/universe amd64 libpython2.7-dev amd64 2.7.18-1~20.04.3 [2,466 kB]\n",
            "Get:6 http://archive.ubuntu.com/ubuntu focal/universe amd64 libpython2-dev amd64 2.7.17-2ubuntu4 [7,140 B]\n",
            "Get:7 http://archive.ubuntu.com/ubuntu focal/universe amd64 python-is-python2 all 2.7.17-4 [2,496 B]\n",
            "Get:8 http://archive.ubuntu.com/ubuntu focal-updates/universe amd64 python2.7-dev amd64 2.7.18-1~20.04.3 [293 kB]\n",
            "Get:9 http://archive.ubuntu.com/ubuntu focal/universe amd64 python2-dev amd64 2.7.17-2ubuntu4 [1,268 B]\n",
            "Get:10 http://archive.ubuntu.com/ubuntu focal/universe amd64 python-dev-is-python2 all 2.7.17-4 [1,396 B]\n",
            "Get:11 http://archive.ubuntu.com/ubuntu focal/main amd64 libffi-dev amd64 3.3-4 [57.0 kB]\n",
            "Fetched 3,927 kB in 1s (4,492 kB/s)\n",
            "Selecting previously unselected package python2-minimal.\n",
            "(Reading database ... 128208 files and directories currently installed.)\n",
            "Preparing to unpack .../python2-minimal_2.7.17-2ubuntu4_amd64.deb ...\n",
            "Unpacking python2-minimal (2.7.17-2ubuntu4) ...\n",
            "Selecting previously unselected package libpython2-stdlib:amd64.\n",
            "Preparing to unpack .../libpython2-stdlib_2.7.17-2ubuntu4_amd64.deb ...\n",
            "Unpacking libpython2-stdlib:amd64 (2.7.17-2ubuntu4) ...\n",
            "Setting up python2-minimal (2.7.17-2ubuntu4) ...\n",
            "Selecting previously unselected package python2.\n",
            "(Reading database ... 128237 files and directories currently installed.)\n",
            "Preparing to unpack .../0-python2_2.7.17-2ubuntu4_amd64.deb ...\n",
            "Unpacking python2 (2.7.17-2ubuntu4) ...\n",
            "Selecting previously unselected package libpython2.7:amd64.\n",
            "Preparing to unpack .../1-libpython2.7_2.7.18-1~20.04.3_amd64.deb ...\n",
            "Unpacking libpython2.7:amd64 (2.7.18-1~20.04.3) ...\n",
            "Selecting previously unselected package libpython2.7-dev:amd64.\n",
            "Preparing to unpack .../2-libpython2.7-dev_2.7.18-1~20.04.3_amd64.deb ...\n",
            "Unpacking libpython2.7-dev:amd64 (2.7.18-1~20.04.3) ...\n",
            "Selecting previously unselected package libpython2-dev:amd64.\n",
            "Preparing to unpack .../3-libpython2-dev_2.7.17-2ubuntu4_amd64.deb ...\n",
            "Unpacking libpython2-dev:amd64 (2.7.17-2ubuntu4) ...\n",
            "Selecting previously unselected package python-is-python2.\n",
            "Preparing to unpack .../4-python-is-python2_2.7.17-4_all.deb ...\n",
            "Unpacking python-is-python2 (2.7.17-4) ...\n",
            "Selecting previously unselected package python2.7-dev.\n",
            "Preparing to unpack .../5-python2.7-dev_2.7.18-1~20.04.3_amd64.deb ...\n",
            "Unpacking python2.7-dev (2.7.18-1~20.04.3) ...\n",
            "Selecting previously unselected package python2-dev.\n",
            "Preparing to unpack .../6-python2-dev_2.7.17-2ubuntu4_amd64.deb ...\n",
            "Unpacking python2-dev (2.7.17-2ubuntu4) ...\n",
            "Selecting previously unselected package python-dev-is-python2.\n",
            "Preparing to unpack .../7-python-dev-is-python2_2.7.17-4_all.deb ...\n",
            "Unpacking python-dev-is-python2 (2.7.17-4) ...\n",
            "Selecting previously unselected package libffi-dev:amd64.\n",
            "Preparing to unpack .../8-libffi-dev_3.3-4_amd64.deb ...\n",
            "Unpacking libffi-dev:amd64 (3.3-4) ...\n",
            "Setting up libpython2.7:amd64 (2.7.18-1~20.04.3) ...\n",
            "Setting up libpython2.7-dev:amd64 (2.7.18-1~20.04.3) ...\n",
            "Setting up libpython2-stdlib:amd64 (2.7.17-2ubuntu4) ...\n",
            "Setting up libffi-dev:amd64 (3.3-4) ...\n",
            "Setting up python2 (2.7.17-2ubuntu4) ...\n",
            "Setting up libpython2-dev:amd64 (2.7.17-2ubuntu4) ...\n",
            "Setting up python-is-python2 (2.7.17-4) ...\n",
            "Setting up python2.7-dev (2.7.18-1~20.04.3) ...\n",
            "Setting up python2-dev (2.7.17-2ubuntu4) ...\n",
            "Setting up python-dev-is-python2 (2.7.17-4) ...\n",
            "Processing triggers for man-db (2.9.1-1) ...\n",
            "Processing triggers for libc-bin (2.31-0ubuntu9.9) ...\n"
          ]
        }
      ]
    },
    {
      "cell_type": "code",
      "execution_count": null,
      "metadata": {
        "id": "BeJ-Rvk4IKpc"
      },
      "outputs": [],
      "source": [
        "%pip install pandas numpy pyearth plotly scikit-learn"
      ]
    },
    {
      "cell_type": "code",
      "execution_count": 4,
      "metadata": {
        "id": "uYZMOpDPIKpe",
        "outputId": "abdaf22b-64d7-435e-d5fa-4588502ce197",
        "colab": {
          "base_uri": "https://localhost:8080/",
          "height": 383
        }
      },
      "outputs": [
        {
          "output_type": "error",
          "ename": "ImportError",
          "evalue": "ignored",
          "traceback": [
            "\u001b[0;31m---------------------------------------------------------------------------\u001b[0m",
            "\u001b[0;31mImportError\u001b[0m                               Traceback (most recent call last)",
            "\u001b[0;32m<ipython-input-4-f62e885cf915>\u001b[0m in \u001b[0;36m<module>\u001b[0;34m\u001b[0m\n\u001b[1;32m      2\u001b[0m \u001b[0;32mimport\u001b[0m \u001b[0mnumpy\u001b[0m \u001b[0;32mas\u001b[0m \u001b[0mnp\u001b[0m \u001b[0;31m# for data manipulation\u001b[0m\u001b[0;34m\u001b[0m\u001b[0;34m\u001b[0m\u001b[0m\n\u001b[1;32m      3\u001b[0m \u001b[0;32mfrom\u001b[0m \u001b[0msklearn\u001b[0m\u001b[0;34m.\u001b[0m\u001b[0mlinear_model\u001b[0m \u001b[0;32mimport\u001b[0m \u001b[0mLinearRegression\u001b[0m\u001b[0;34m\u001b[0m\u001b[0;34m\u001b[0m\u001b[0m\n\u001b[0;32m----> 4\u001b[0;31m \u001b[0;32mfrom\u001b[0m \u001b[0mpyearth\u001b[0m \u001b[0;32mimport\u001b[0m \u001b[0mEarth\u001b[0m\u001b[0;34m\u001b[0m\u001b[0;34m\u001b[0m\u001b[0m\n\u001b[0m\u001b[1;32m      5\u001b[0m \u001b[0;32mimport\u001b[0m \u001b[0mplotly\u001b[0m\u001b[0;34m.\u001b[0m\u001b[0mgraph_objects\u001b[0m \u001b[0;32mas\u001b[0m \u001b[0mgo\u001b[0m\u001b[0;34m\u001b[0m\u001b[0;34m\u001b[0m\u001b[0m\n\u001b[1;32m      6\u001b[0m \u001b[0;32mimport\u001b[0m \u001b[0mplotly\u001b[0m\u001b[0;34m.\u001b[0m\u001b[0mexpress\u001b[0m \u001b[0;32mas\u001b[0m \u001b[0mpx\u001b[0m\u001b[0;34m\u001b[0m\u001b[0;34m\u001b[0m\u001b[0m\n",
            "\u001b[0;31mImportError\u001b[0m: cannot import name 'Earth' from 'pyearth' (/usr/local/lib/python3.8/dist-packages/pyearth/__init__.py)",
            "",
            "\u001b[0;31m---------------------------------------------------------------------------\u001b[0;32m\nNOTE: If your import is failing due to a missing package, you can\nmanually install dependencies using either !pip or !apt.\n\nTo view examples of installing some common dependencies, click the\n\"Open Examples\" button below.\n\u001b[0;31m---------------------------------------------------------------------------\u001b[0m\n"
          ],
          "errorDetails": {
            "actions": [
              {
                "action": "open_url",
                "actionText": "Open Examples",
                "url": "/notebooks/snippets/importing_libraries.ipynb"
              }
            ]
          }
        }
      ],
      "source": [
        "import pandas as pd \n",
        "import numpy as np # for data manipulation\n",
        "from sklearn.linear_model import LinearRegression \n",
        "from pyearth import Earth \n",
        "import plotly.graph_objects as go\n",
        "import plotly.express as px "
      ]
    },
    {
      "cell_type": "code",
      "source": [
        "# Create a scatter plot\n",
        "fig = px.scatter(df, x=df['X3 distance to the nearest MRT station'], y=df['Y house price of unit area'], \n",
        "                 opacity=0.8, color_discrete_sequence=['black'])\n",
        "\n",
        "# Change chart background color\n",
        "fig.update_layout(dict(plot_bgcolor = 'white'))\n",
        "\n",
        "# Update axes lines\n",
        "fig.update_xaxes(showgrid=True, gridwidth=1, gridcolor='lightgrey', \n",
        "                 zeroline=True, zerolinewidth=1, zerolinecolor='lightgrey', \n",
        "                 showline=True, linewidth=1, linecolor='black')\n",
        "\n",
        "fig.update_yaxes(showgrid=True, gridwidth=1, gridcolor='lightgrey', \n",
        "                 zeroline=True, zerolinewidth=1, zerolinecolor='lightgrey', \n",
        "                 showline=True, linewidth=1, linecolor='black')\n",
        "\n",
        "# Set figure title\n",
        "fig.update_layout(title_text=\"Scatter Plot\")\n",
        "\n",
        "# Update marker size\n",
        "fig.update_traces(marker=dict(size=3))\n",
        "\n",
        "fig.show()\n",
        "view raw"
      ],
      "metadata": {
        "id": "IY_i5mIKIaD8"
      },
      "execution_count": null,
      "outputs": []
    }
  ],
  "metadata": {
    "kernelspec": {
      "display_name": "Python 3",
      "language": "python",
      "name": "python3"
    },
    "language_info": {
      "codemirror_mode": {
        "name": "ipython",
        "version": 3
      },
      "file_extension": ".py",
      "mimetype": "text/x-python",
      "name": "python",
      "nbconvert_exporter": "python",
      "pygments_lexer": "ipython3",
      "version": "3.9.16"
    },
    "orig_nbformat": 4,
    "vscode": {
      "interpreter": {
        "hash": "2c2480a7caaae9245f166c2ca3d5910b4b87027f1aa1a9b0b9e3cf91803f23ce"
      }
    },
    "colab": {
      "provenance": []
    }
  },
  "nbformat": 4,
  "nbformat_minor": 0
}