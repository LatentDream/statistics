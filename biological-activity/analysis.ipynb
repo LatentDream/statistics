{
 "cells": [
  {
   "attachments": {},
   "cell_type": "markdown",
   "metadata": {},
   "source": [
    "# Biological Activity"
   ]
  },
  {
   "attachments": {},
   "cell_type": "markdown",
   "metadata": {},
   "source": [
    "New drugs are developed with chemicals that are biologically active (life engineering). Testing molecules for biological activity is a costly process and it would be useful to predict biological activity with lower cost measurements. It is even possible, without even making the compound, to calculate certain characteristics such as size, lidrophobicity (ability to dissolve), and polarity of key chemical groups at different sites in the molecule as well as the activity of the compound. This area of research is called computational chemistry."
   ]
  },
  {
   "cell_type": "code",
   "execution_count": null,
   "metadata": {},
   "outputs": [],
   "source": [
    "using Pkg\n",
    "Pkg.add(\"DataFrames\")\n",
    "Pkg.add(\"CSV\")\n",
    "Pkg.add(\"GLM\")\n",
    "Pkg.add(\"Statistics\")\n",
    "Pkg.add(\"Distributions\")\n",
    "Pkg.add(\"Gadfly\")\n",
    "Pkg.add(\"LinearAlgebra\")\n",
    "Pkg.add(\"ScikitLearn\")"
   ]
  },
  {
   "cell_type": "code",
   "execution_count": 36,
   "metadata": {},
   "outputs": [
    {
     "name": "stderr",
     "output_type": "stream",
     "text": [
      "\u001b[32m\u001b[1m   Resolving\u001b[22m\u001b[39m package versions...\n"
     ]
    },
    {
     "name": "stderr",
     "output_type": "stream",
     "text": [
      "\u001b[32m\u001b[1m    Updating\u001b[22m\u001b[39m `~/.julia/environments/v1.8/Project.toml`\n",
      " \u001b[90m [438e738f] \u001b[39m\u001b[92m+ PyCall v1.95.1\u001b[39m\n",
      "\u001b[32m\u001b[1m  No Changes\u001b[22m\u001b[39m to `~/.julia/environments/v1.8/Manifest.toml`\n"
     ]
    }
   ],
   "source": [
    "using Pkg\n",
    "Pkg.add(\"PyCall\")"
   ]
  },
  {
   "cell_type": "code",
   "execution_count": 41,
   "metadata": {},
   "outputs": [],
   "source": [
    "using CSV, DataFrames, GLM, Statistics, Distributions, Gadfly, LinearAlgebra, ScikitLearn"
   ]
  },
  {
   "attachments": {},
   "cell_type": "markdown",
   "metadata": {},
   "source": [
    "### Data\n",
    "\n",
    "The data file, Penta, contains 31 observations and the variables\n",
    "* NAME: name of the compound\n",
    "* 15 X measurements: S1, L1,..., P5\n",
    "* Response Y_logRAI: logarithm of the bradykinin activity (conversion enzyme)\n",
    "* CLASS; classification of data: training, test\n",
    "\n",
    "The file is divided into 2 parts; the first 15 observations form the training set of the PLS model (Ufkes 1978 study); the others constitute the test set and come from the 1982 study. The peptides used in the second study were different from those used in the first study, and the bradykinin used in the two studies was from different sources."
   ]
  },
  {
   "cell_type": "code",
   "execution_count": 16,
   "metadata": {},
   "outputs": [
    {
     "data": {
      "text/html": [
       "<div class=\"data-frame\"><p>19 rows × 7 columns</p><table class=\"data-frame\"><thead><tr><th></th><th>variable</th><th>mean</th><th>min</th><th>median</th><th>max</th><th>nmissing</th><th>eltype</th></tr><tr><th></th><th title=\"Symbol\">Symbol</th><th title=\"Union{Nothing, Float64}\">Union…</th><th title=\"Any\">Any</th><th title=\"Union{Nothing, Float64}\">Union…</th><th title=\"Any\">Any</th><th title=\"Int64\">Int64</th><th title=\"Type\">Type</th></tr></thead><tbody><tr><th>1</th><td>ID</td><td>16.0</td><td>1</td><td>16.0</td><td>31</td><td>0</td><td>Int64</td></tr><tr><th>2</th><td>NOM</td><td></td><td>AAAAA</td><td></td><td>VWAAK</td><td>0</td><td>String7</td></tr><tr><th>3</th><td>S1</td><td>-1.70665</td><td>-4.9217</td><td>-2.6931</td><td>3.0777</td><td>0</td><td>Float64</td></tr><tr><th>4</th><td>L1</td><td>-1.80847</td><td>-5.3648</td><td>-2.5271</td><td>2.5215</td><td>0</td><td>Float64</td></tr><tr><th>5</th><td>P1</td><td>-0.915865</td><td>-3.4435</td><td>-1.2871</td><td>2.2253</td><td>0</td><td>Float64</td></tr><tr><th>6</th><td>S2</td><td>1.8728</td><td>-4.7548</td><td>2.8369</td><td>3.0777</td><td>0</td><td>Float64</td></tr><tr><th>7</th><td>L2</td><td>-0.194406</td><td>-5.3648</td><td>0.3891</td><td>3.6521</td><td>0</td><td>Float64</td></tr><tr><th>8</th><td>P2</td><td>-0.451558</td><td>-3.1398</td><td>-0.0701</td><td>0.8524</td><td>0</td><td>Float64</td></tr><tr><th>9</th><td>S3</td><td>-1.67861</td><td>-4.9217</td><td>0.0744</td><td>2.4064</td><td>0</td><td>Float64</td></tr><tr><th>10</th><td>L3</td><td>0.170848</td><td>-5.3648</td><td>-1.0285</td><td>3.6521</td><td>0</td><td>Float64</td></tr><tr><th>11</th><td>P3</td><td>0.409745</td><td>-0.9801</td><td>0.3049</td><td>2.2253</td><td>0</td><td>Float64</td></tr><tr><th>12</th><td>S4</td><td>-0.0522129</td><td>-4.9217</td><td>0.0744</td><td>2.2261</td><td>0</td><td>Float64</td></tr><tr><th>13</th><td>L4</td><td>-1.62754</td><td>-5.3648</td><td>-1.7333</td><td>3.6521</td><td>0</td><td>Float64</td></tr><tr><th>14</th><td>P4</td><td>0.211481</td><td>-1.2871</td><td>0.0902</td><td>2.2253</td><td>0</td><td>Float64</td></tr><tr><th>15</th><td>S5</td><td>1.65706</td><td>-1.2201</td><td>2.8369</td><td>2.8827</td><td>0</td><td>Float64</td></tr><tr><th>16</th><td>L5</td><td>0.521877</td><td>-5.3648</td><td>1.4092</td><td>2.5215</td><td>0</td><td>Float64</td></tr><tr><th>17</th><td>P5</td><td>-1.59604</td><td>-3.4435</td><td>-3.1398</td><td>2.2253</td><td>0</td><td>Float64</td></tr><tr><th>18</th><td>Y_logRAI</td><td>0.734333</td><td>-1.0</td><td>0.485</td><td>2.73</td><td>1</td><td>Union{Missing, Float64}</td></tr><tr><th>19</th><td>CLASSE</td><td></td><td>entraiment</td><td></td><td>test</td><td>0</td><td>String15</td></tr></tbody></table></div>"
      ],
      "text/latex": [
       "\\begin{tabular}{r|ccccccc}\n",
       "\t& variable & mean & min & median & max & nmissing & eltype\\\\\n",
       "\t\\hline\n",
       "\t& Symbol & Union… & Any & Union… & Any & Int64 & Type\\\\\n",
       "\t\\hline\n",
       "\t1 & ID & 16.0 & 1 & 16.0 & 31 & 0 & Int64 \\\\\n",
       "\t2 & NOM &  & AAAAA &  & VWAAK & 0 & String7 \\\\\n",
       "\t3 & S1 & -1.70665 & -4.9217 & -2.6931 & 3.0777 & 0 & Float64 \\\\\n",
       "\t4 & L1 & -1.80847 & -5.3648 & -2.5271 & 2.5215 & 0 & Float64 \\\\\n",
       "\t5 & P1 & -0.915865 & -3.4435 & -1.2871 & 2.2253 & 0 & Float64 \\\\\n",
       "\t6 & S2 & 1.8728 & -4.7548 & 2.8369 & 3.0777 & 0 & Float64 \\\\\n",
       "\t7 & L2 & -0.194406 & -5.3648 & 0.3891 & 3.6521 & 0 & Float64 \\\\\n",
       "\t8 & P2 & -0.451558 & -3.1398 & -0.0701 & 0.8524 & 0 & Float64 \\\\\n",
       "\t9 & S3 & -1.67861 & -4.9217 & 0.0744 & 2.4064 & 0 & Float64 \\\\\n",
       "\t10 & L3 & 0.170848 & -5.3648 & -1.0285 & 3.6521 & 0 & Float64 \\\\\n",
       "\t11 & P3 & 0.409745 & -0.9801 & 0.3049 & 2.2253 & 0 & Float64 \\\\\n",
       "\t12 & S4 & -0.0522129 & -4.9217 & 0.0744 & 2.2261 & 0 & Float64 \\\\\n",
       "\t13 & L4 & -1.62754 & -5.3648 & -1.7333 & 3.6521 & 0 & Float64 \\\\\n",
       "\t14 & P4 & 0.211481 & -1.2871 & 0.0902 & 2.2253 & 0 & Float64 \\\\\n",
       "\t15 & S5 & 1.65706 & -1.2201 & 2.8369 & 2.8827 & 0 & Float64 \\\\\n",
       "\t16 & L5 & 0.521877 & -5.3648 & 1.4092 & 2.5215 & 0 & Float64 \\\\\n",
       "\t17 & P5 & -1.59604 & -3.4435 & -3.1398 & 2.2253 & 0 & Float64 \\\\\n",
       "\t18 & Y\\_logRAI & 0.734333 & -1.0 & 0.485 & 2.73 & 1 & Union\\{Missing, Float64\\} \\\\\n",
       "\t19 & CLASSE &  & entraiment &  & test & 0 & String15 \\\\\n",
       "\\end{tabular}\n"
      ],
      "text/plain": [
       "\u001b[1m19×7 DataFrame\u001b[0m\n",
       "\u001b[1m Row \u001b[0m│\u001b[1m variable \u001b[0m\u001b[1m mean       \u001b[0m\u001b[1m min        \u001b[0m\u001b[1m median  \u001b[0m\u001b[1m max    \u001b[0m\u001b[1m nmissing \u001b[0m\u001b[1m eltype    \u001b[0m ⋯\n",
       "\u001b[1m     \u001b[0m│\u001b[90m Symbol   \u001b[0m\u001b[90m Union…     \u001b[0m\u001b[90m Any        \u001b[0m\u001b[90m Union…  \u001b[0m\u001b[90m Any    \u001b[0m\u001b[90m Int64    \u001b[0m\u001b[90m Type      \u001b[0m ⋯\n",
       "─────┼──────────────────────────────────────────────────────────────────────────\n",
       "   1 │ ID        16.0        1           16.0     31             0  Int64      ⋯\n",
       "   2 │ NOM      \u001b[90m            \u001b[0m AAAAA      \u001b[90m         \u001b[0m VWAAK          0  String7\n",
       "   3 │ S1        -1.70665    -4.9217     -2.6931  3.0777         0  Float64\n",
       "   4 │ L1        -1.80847    -5.3648     -2.5271  2.5215         0  Float64\n",
       "   5 │ P1        -0.915865   -3.4435     -1.2871  2.2253         0  Float64    ⋯\n",
       "   6 │ S2        1.8728      -4.7548     2.8369   3.0777         0  Float64\n",
       "   7 │ L2        -0.194406   -5.3648     0.3891   3.6521         0  Float64\n",
       "   8 │ P2        -0.451558   -3.1398     -0.0701  0.8524         0  Float64\n",
       "  ⋮  │    ⋮          ⋮           ⋮          ⋮       ⋮        ⋮                 ⋱\n",
       "  13 │ L4        -1.62754    -5.3648     -1.7333  3.6521         0  Float64    ⋯\n",
       "  14 │ P4        0.211481    -1.2871     0.0902   2.2253         0  Float64\n",
       "  15 │ S5        1.65706     -1.2201     2.8369   2.8827         0  Float64\n",
       "  16 │ L5        0.521877    -5.3648     1.4092   2.5215         0  Float64\n",
       "  17 │ P5        -1.59604    -3.4435     -3.1398  2.2253         0  Float64    ⋯\n",
       "  18 │ Y_logRAI  0.734333    -1.0        0.485    2.73           1  Union{Miss\n",
       "  19 │ CLASSE   \u001b[90m            \u001b[0m entraiment \u001b[90m         \u001b[0m test           0  String15\n",
       "\u001b[36m                                                     1 column and 4 rows omitted\u001b[0m"
      ]
     },
     "metadata": {},
     "output_type": "display_data"
    }
   ],
   "source": [
    "data = CSV.read(\"data.csv\", DataFrame);\n",
    "describe(data)"
   ]
  },
  {
   "cell_type": "code",
   "execution_count": 19,
   "metadata": {},
   "outputs": [
    {
     "name": "stdout",
     "output_type": "stream",
     "text": [
      "31 smaple - 19 features"
     ]
    }
   ],
   "source": [
    "data_point, features = size(data)\n",
    "print(data_point, \" smaple - \", features, \" features\")"
   ]
  },
  {
   "cell_type": "code",
   "execution_count": 29,
   "metadata": {},
   "outputs": [
    {
     "name": "stdout",
     "output_type": "stream",
     "text": [
      "Training size: (15, 16)\n",
      "Test size: (15, 16)"
     ]
    }
   ],
   "source": [
    "# Split in training and validation set\n",
    "train = data[(data.CLASSE .== \"entraiment\"), :];\n",
    "x_train = select(train, Not([:CLASSE, :ID, :Y_logRAI]));\n",
    "y_train = select(train, :Y_logRAI);\n",
    "print(\"Training size: \", size(x_train))\n",
    "\n",
    "valid = data[(data.CLASSE .== \"test\"), :];\n",
    "x_valid = select(valid, Not([:CLASSE, :ID, :Y_logRAI]));\n",
    "y_valid = select(valid, :Y_logRAI);\n",
    "print(\"\\nTest size: \", size(x_train))\n"
   ]
  },
  {
   "attachments": {},
   "cell_type": "markdown",
   "metadata": {},
   "source": [
    "### Objective\n",
    "To develop a PLS ((Projection on Latent Structure) model based on the first study and examine its performance in predicting the data from the second study.\n",
    "\n",
    "7a) Develop an initial PLS model (denoted M1) on only the test data (first 15 observations) for bradikinin activity. Consider a model with all components.\n",
    "\n",
    "7b) Develop a second PLS model (denoted M2) based on the first 2 components only. Justify dropping the components beyond the first 2.\n",
    "\n",
    "7c) Develop a third PLS model (denoted M3) based on the first 2 components based only on the regressors S1 P1 S3 P3 L3 S4 L4 P4. Justify the abandonment of the other L1 S2 L2 P2 S5 L5 P5.\n",
    "\n",
    "7d) Use the M3 model to predict brakinin activity for the data from the second study. Comment on the result, propose a conclusion and possibly an explanation."
   ]
  },
  {
   "cell_type": "code",
   "execution_count": null,
   "metadata": {},
   "outputs": [],
   "source": [
    "@sk_import linear_model: LogisticRegression\n",
    "\n",
    "model = LogisticRegression(fit_intercept=true, max_iter = 200)\n",
    "fit!(model, X, y);\n",
    "accuracy = score(model, X, y)\n",
    "println(\"accuracy: $accuracy\")\n"
   ]
  },
  {
   "cell_type": "code",
   "execution_count": 40,
   "metadata": {},
   "outputs": [
    {
     "ename": "PyCall.PyError",
     "evalue": "PyError (PyImport_ImportModule\n\nThe Python package sklearn.pls could not be imported by pyimport. Usually this means\nthat you did not install sklearn.pls in the Python version being used by PyCall.\n\nPyCall is currently configured to use the Julia-specific Python distribution\ninstalled by the Conda.jl package.  To install the sklearn.pls module, you can\nuse `pyimport_conda(\"sklearn.pls\", PKG)`, where PKG is the Anaconda\npackage that contains the module sklearn.pls, or alternatively you can use the\nConda package directly (via `using Conda` followed by `Conda.add` etcetera).\n\nAlternatively, if you want to use a different Python distribution on your\nsystem, such as a system-wide Python (as opposed to the Julia-specific Python),\nyou can re-configure PyCall with that Python.   As explained in the PyCall\ndocumentation, set ENV[\"PYTHON\"] to the path/name of the python executable\nyou want to use, run Pkg.build(\"PyCall\"), and re-launch Julia.\n\n) <class 'ModuleNotFoundError'>\nModuleNotFoundError(\"No module named 'sklearn.pls'\")\n",
     "output_type": "error",
     "traceback": [
      "PyError (PyImport_ImportModule\n",
      "\n",
      "The Python package sklearn.pls could not be imported by pyimport. Usually this means\n",
      "that you did not install sklearn.pls in the Python version being used by PyCall.\n",
      "\n",
      "PyCall is currently configured to use the Julia-specific Python distribution\n",
      "installed by the Conda.jl package.  To install the sklearn.pls module, you can\n",
      "use `pyimport_conda(\"sklearn.pls\", PKG)`, where PKG is the Anaconda\n",
      "package that contains the module sklearn.pls, or alternatively you can use the\n",
      "Conda package directly (via `using Conda` followed by `Conda.add` etcetera).\n",
      "\n",
      "Alternatively, if you want to use a different Python distribution on your\n",
      "system, such as a system-wide Python (as opposed to the Julia-specific Python),\n",
      "you can re-configure PyCall with that Python.   As explained in the PyCall\n",
      "documentation, set ENV[\"PYTHON\"] to the path/name of the python executable\n",
      "you want to use, run Pkg.build(\"PyCall\"), and re-launch Julia.\n",
      "\n",
      ") <class 'ModuleNotFoundError'>\n",
      "ModuleNotFoundError(\"No module named 'sklearn.pls'\")\n",
      "\n",
      "\n",
      "Stacktrace:\n",
      " [1] pyimport(name::String)\n",
      "   @ PyCall ~/.julia/packages/PyCall/twYvK/src/PyCall.jl:558\n",
      " [2] top-level scope\n",
      "   @ ~/.julia/packages/ScikitLearn/sqLdT/src/Skcore.jl:276"
     ]
    }
   ],
   "source": [
    "@sk_import pls: PLSRegression\n",
    "\n",
    "model = PLSRegression(n_components=10, scale=True, algorithm='nipals', max_iter=500, tol=1e-06, copy=True)¶\n"
   ]
  },
  {
   "cell_type": "code",
   "execution_count": 47,
   "metadata": {},
   "outputs": [
    {
     "name": "stderr",
     "output_type": "stream",
     "text": [
      "\u001b[32m\u001b[1m   Resolving\u001b[22m\u001b[39m package versions...\n"
     ]
    },
    {
     "name": "stderr",
     "output_type": "stream",
     "text": [
      "\u001b[32m\u001b[1m    Updating\u001b[22m\u001b[39m `~/.julia/environments/v1.8/Project.toml`\n",
      " \u001b[90m [8f4d0f93] \u001b[39m\u001b[92m+ Conda v1.8.0\u001b[39m\n",
      "\u001b[32m\u001b[1m  No Changes\u001b[22m\u001b[39m to `~/.julia/environments/v1.8/Manifest.toml`\n"
     ]
    },
    {
     "name": "stderr",
     "output_type": "stream",
     "text": [
      "┌ Info: Running `conda install -y sklearn.pls` in root environment\n",
      "└ @ Conda /Users/guillaumethibault/.julia/packages/Conda/kOnIE/src/Conda.jl:127\n"
     ]
    },
    {
     "name": "stdout",
     "output_type": "stream",
     "text": [
      "Collecting package metadata (current_repodata.json): ...working... "
     ]
    },
    {
     "name": "stdout",
     "output_type": "stream",
     "text": [
      "done\n",
      "Solving environment: ...working... failed with initial frozen solve. Retrying with flexible solve.\n",
      "Collecting package metadata (repodata.json): ...working... "
     ]
    },
    {
     "name": "stdout",
     "output_type": "stream",
     "text": [
      "done\n",
      "Solving environment: ...working... failed with initial frozen solve. Retrying with flexible solve.\n"
     ]
    },
    {
     "name": "stderr",
     "output_type": "stream",
     "text": [
      "\n",
      "PackagesNotFoundError: The following packages are not available from current channels:\n",
      "\n",
      "  - sklearn.pls\n",
      "\n",
      "Current channels:\n",
      "\n",
      "  - https://repo.anaconda.com/pkgs/main/osx-64\n",
      "  - https://repo.anaconda.com/pkgs/main/noarch\n",
      "  - https://repo.anaconda.com/pkgs/r/osx-64\n",
      "  - https://repo.anaconda.com/pkgs/r/noarch\n",
      "\n",
      "To search for alternate channels that may provide the conda package you're\n",
      "looking for, navigate to\n",
      "\n",
      "    https://anaconda.org\n",
      "\n",
      "and use the search bar at the top of the page.\n",
      "\n",
      "\n"
     ]
    },
    {
     "ename": "ProcessFailedException",
     "evalue": "failed process: Process(setenv(`/Users/guillaumethibault/.julia/conda/3/bin/conda install -y sklearn.pls`,[\"XPC_FLAGS=0x0\", \"COMMAND_MODE=unix2003\", \"PATH=/opt/local/bin:/opt/local/sbin:/Library/Frameworks/Python.framework/Versions/3.7/bin:/usr/local/bin:/usr/bin:/bin:/usr/sbin:/sbin:/Users/guillaumethibault/Documents/Poly/22_H/Qualité/sonar-scanner-4.7.0.2747-macosx/bin:/Applications/VMware Fusion.app/Contents/Public:/Library/TeX/texbin:/usr/local/share/dotnet:/opt/X11/bin:~/.dotnet/tools:/Library/Apple/usr/bin:/Library/Frameworks/Mono.framework/Versions/Current/Commands:/Applications/Xamarin Workbooks.app/Contents/SharedSupport/path-bin:/Applications/Visual Studio Code.app/Contents/Resources/app/bin\", \"PWD=/Users/guillaumethibault/Documents/repo/statistics-dumb\", \"VSCODE_CODE_CACHE_PATH=/Users/guillaumethibault/Library/Application Support/Code/CachedData/441438abd1ac652551dbe4d408dfcec8a499b8bf\", \"DISPLAY=:0\", \"VSCODE_HANDLES_UNCAUGHT_ERRORS=true\", \"TERM_PROGRAM=Apple_Terminal\", \"XPC_SERVICE_NAME=application.com.microsoft.VSCode.99884614.99884620.5BD5A986-7A4E-4BBA-911B-105EB7043668\", \"ELECTRON_RUN_AS_NODE=1\", \"VSCODE_NLS_CONFIG={\\\"locale\\\":\\\"en-us\\\",\\\"availableLanguages\\\":{},\\\"_languagePackSupport\\\":true}\", \"SHELL=/bin/zsh\", \"VSCODE_AMD_ENTRYPOINT=vs/workbench/api/node/extensionHostProcess\", \"__CF_USER_TEXT_ENCODING=0x1F5:0x0:0x52\", \"KMP_INIT_AT_FORK=FALSE\", \"VSCODE_PID=19274\", \"__CFBundleIdentifier=com.microsoft.VSCode\", \"VSCODE_IPC_HOOK=/Users/guillaumethibault/Library/Application Support/Code/1.75.1-main.sock\", \"TMPDIR=/var/folders/wy/bd7zcwsj47dcjdv0j_tt7dk40000gn/T/\", \"CONDARC=/Users/guillaumethibault/.julia/conda/3/condarc-julia.yml\", \"ORIGINAL_XDG_CURRENT_DESKTOP=undefined\", \"LANG=en_CA.UTF-8\", \"LOGNAME=guillaumethibault\", \"SHLVL=2\", \"CONDA_PREFIX=/Users/guillaumethibault/.julia/conda/3\", \"MallocNanoZone=0\", \"SSH_AUTH_SOCK=/private/tmp/com.apple.launchd.npAowkJZYv/Listeners\", \"TERM_SESSION_ID=93A3DA42-B592-4193-8D4C-1E6F2833F3B1\", \"VSCODE_CLI=1\", \"KMP_DUPLICATE_LIB_OK=True\", \"USER=guillaumethibault\", \"HOME=/Users/guillaumethibault\", \"TERM=xterm-256color\", \"TERM_PROGRAM_VERSION=440\", \"ELECTRON_NO_ATTACH_CONSOLE=1\", \"JULIA_NUM_THREADS=\", \"PYTHONIOENCODING=UTF-8\", \"VSCODE_CWD=/Users/guillaumethibault/Documents/repo/statistics-dumb\"]), ProcessExited(1)) [1]\n",
     "output_type": "error",
     "traceback": [
      "failed process: Process(setenv(`/Users/guillaumethibault/.julia/conda/3/bin/conda install -y sklearn.pls`,[\"XPC_FLAGS=0x0\", \"COMMAND_MODE=unix2003\", \"PATH=/opt/local/bin:/opt/local/sbin:/Library/Frameworks/Python.framework/Versions/3.7/bin:/usr/local/bin:/usr/bin:/bin:/usr/sbin:/sbin:/Users/guillaumethibault/Documents/Poly/22_H/Qualité/sonar-scanner-4.7.0.2747-macosx/bin:/Applications/VMware Fusion.app/Contents/Public:/Library/TeX/texbin:/usr/local/share/dotnet:/opt/X11/bin:~/.dotnet/tools:/Library/Apple/usr/bin:/Library/Frameworks/Mono.framework/Versions/Current/Commands:/Applications/Xamarin Workbooks.app/Contents/SharedSupport/path-bin:/Applications/Visual Studio Code.app/Contents/Resources/app/bin\", \"PWD=/Users/guillaumethibault/Documents/repo/statistics-dumb\", \"VSCODE_CODE_CACHE_PATH=/Users/guillaumethibault/Library/Application Support/Code/CachedData/441438abd1ac652551dbe4d408dfcec8a499b8bf\", \"DISPLAY=:0\", \"VSCODE_HANDLES_UNCAUGHT_ERRORS=true\", \"TERM_PROGRAM=Apple_Terminal\", \"XPC_SERVICE_NAME=application.com.microsoft.VSCode.99884614.99884620.5BD5A986-7A4E-4BBA-911B-105EB7043668\", \"ELECTRON_RUN_AS_NODE=1\", \"VSCODE_NLS_CONFIG={\\\"locale\\\":\\\"en-us\\\",\\\"availableLanguages\\\":{},\\\"_languagePackSupport\\\":true}\", \"SHELL=/bin/zsh\", \"VSCODE_AMD_ENTRYPOINT=vs/workbench/api/node/extensionHostProcess\", \"__CF_USER_TEXT_ENCODING=0x1F5:0x0:0x52\", \"KMP_INIT_AT_FORK=FALSE\", \"VSCODE_PID=19274\", \"__CFBundleIdentifier=com.microsoft.VSCode\", \"VSCODE_IPC_HOOK=/Users/guillaumethibault/Library/Application Support/Code/1.75.1-main.sock\", \"TMPDIR=/var/folders/wy/bd7zcwsj47dcjdv0j_tt7dk40000gn/T/\", \"CONDARC=/Users/guillaumethibault/.julia/conda/3/condarc-julia.yml\", \"ORIGINAL_XDG_CURRENT_DESKTOP=undefined\", \"LANG=en_CA.UTF-8\", \"LOGNAME=guillaumethibault\", \"SHLVL=2\", \"CONDA_PREFIX=/Users/guillaumethibault/.julia/conda/3\", \"MallocNanoZone=0\", \"SSH_AUTH_SOCK=/private/tmp/com.apple.launchd.npAowkJZYv/Listeners\", \"TERM_SESSION_ID=93A3DA42-B592-4193-8D4C-1E6F2833F3B1\", \"VSCODE_CLI=1\", \"KMP_DUPLICATE_LIB_OK=True\", \"USER=guillaumethibault\", \"HOME=/Users/guillaumethibault\", \"TERM=xterm-256color\", \"TERM_PROGRAM_VERSION=440\", \"ELECTRON_NO_ATTACH_CONSOLE=1\", \"JULIA_NUM_THREADS=\", \"PYTHONIOENCODING=UTF-8\", \"VSCODE_CWD=/Users/guillaumethibault/Documents/repo/statistics-dumb\"]), ProcessExited(1)) [1]\n",
      "\n",
      "\n",
      "Stacktrace:\n",
      " [1] pipeline_error\n",
      "   @ ./process.jl:565 [inlined]\n",
      " [2] run(::Cmd; wait::Bool)\n",
      "   @ Base ./process.jl:480\n",
      " [3] run\n",
      "   @ ./process.jl:477 [inlined]\n",
      " [4] runconda(args::Cmd, env::String)\n",
      "   @ Conda ~/.julia/packages/Conda/kOnIE/src/Conda.jl:128\n",
      " [5] add(pkg::String, env::String; channel::String)\n",
      "   @ Conda ~/.julia/packages/Conda/kOnIE/src/Conda.jl:224\n",
      " [6] add (repeats 2 times)\n",
      "   @ ~/.julia/packages/Conda/kOnIE/src/Conda.jl:222 [inlined]\n",
      " [7] top-level scope\n",
      "   @ ~/Documents/repo/statistics-dumb/biological-activity/analysis.ipynb:4"
     ]
    }
   ],
   "source": [
    "using Pkg\n",
    "Pkg.add(\"Conda\")\n",
    "using Conda\n",
    "Conda.add(\"sklearn.pls\")"
   ]
  },
  {
   "cell_type": "code",
   "execution_count": 45,
   "metadata": {},
   "outputs": [
    {
     "name": "stderr",
     "output_type": "stream",
     "text": [
      "┌ Info: Installing sklearn.pls via the Conda ScikitLearn package...\n",
      "└ @ PyCall /Users/guillaumethibault/.julia/packages/PyCall/twYvK/src/PyCall.jl:719\n",
      "┌ Info: Running `conda install -y ScikitLearn` in root environment\n",
      "└ @ Conda /Users/guillaumethibault/.julia/packages/Conda/kOnIE/src/Conda.jl:127\n"
     ]
    },
    {
     "name": "stdout",
     "output_type": "stream",
     "text": [
      "Collecting package metadata (current_repodata.json): ...working... "
     ]
    },
    {
     "name": "stdout",
     "output_type": "stream",
     "text": [
      "done\n",
      "Solving environment: ...working... failed with initial frozen solve. Retrying with flexible solve.\n",
      "Collecting package metadata (repodata.json): ...working... "
     ]
    },
    {
     "name": "stdout",
     "output_type": "stream",
     "text": [
      "done\n",
      "Solving environment: ...working... failed with initial frozen solve. Retrying with flexible solve.\n"
     ]
    },
    {
     "name": "stderr",
     "output_type": "stream",
     "text": [
      "\n",
      "PackagesNotFoundError: The following packages are not available from current channels:\n",
      "\n",
      "  - scikitlearn\n",
      "\n",
      "Current channels:\n",
      "\n",
      "  - https://repo.anaconda.com/pkgs/main/osx-64\n",
      "  - https://repo.anaconda.com/pkgs/main/noarch\n",
      "  - https://repo.anaconda.com/pkgs/r/osx-64\n",
      "  - https://repo.anaconda.com/pkgs/r/noarch\n",
      "\n",
      "To search for alternate channels that may provide the conda package you're\n",
      "looking for, navigate to\n",
      "\n",
      "    https://anaconda.org\n",
      "\n",
      "and use the search bar at the top of the page.\n",
      "\n",
      "\n"
     ]
    },
    {
     "ename": "ProcessFailedException",
     "evalue": "failed process: Process(setenv(`/Users/guillaumethibault/.julia/conda/3/bin/conda install -y ScikitLearn`,[\"XPC_FLAGS=0x0\", \"COMMAND_MODE=unix2003\", \"PATH=/opt/local/bin:/opt/local/sbin:/Library/Frameworks/Python.framework/Versions/3.7/bin:/usr/local/bin:/usr/bin:/bin:/usr/sbin:/sbin:/Users/guillaumethibault/Documents/Poly/22_H/Qualité/sonar-scanner-4.7.0.2747-macosx/bin:/Applications/VMware Fusion.app/Contents/Public:/Library/TeX/texbin:/usr/local/share/dotnet:/opt/X11/bin:~/.dotnet/tools:/Library/Apple/usr/bin:/Library/Frameworks/Mono.framework/Versions/Current/Commands:/Applications/Xamarin Workbooks.app/Contents/SharedSupport/path-bin:/Applications/Visual Studio Code.app/Contents/Resources/app/bin\", \"PWD=/Users/guillaumethibault/Documents/repo/statistics-dumb\", \"VSCODE_CODE_CACHE_PATH=/Users/guillaumethibault/Library/Application Support/Code/CachedData/441438abd1ac652551dbe4d408dfcec8a499b8bf\", \"DISPLAY=:0\", \"VSCODE_HANDLES_UNCAUGHT_ERRORS=true\", \"TERM_PROGRAM=Apple_Terminal\", \"XPC_SERVICE_NAME=application.com.microsoft.VSCode.99884614.99884620.5BD5A986-7A4E-4BBA-911B-105EB7043668\", \"ELECTRON_RUN_AS_NODE=1\", \"VSCODE_NLS_CONFIG={\\\"locale\\\":\\\"en-us\\\",\\\"availableLanguages\\\":{},\\\"_languagePackSupport\\\":true}\", \"SHELL=/bin/zsh\", \"VSCODE_AMD_ENTRYPOINT=vs/workbench/api/node/extensionHostProcess\", \"__CF_USER_TEXT_ENCODING=0x1F5:0x0:0x52\", \"KMP_INIT_AT_FORK=FALSE\", \"VSCODE_PID=19274\", \"__CFBundleIdentifier=com.microsoft.VSCode\", \"VSCODE_IPC_HOOK=/Users/guillaumethibault/Library/Application Support/Code/1.75.1-main.sock\", \"TMPDIR=/var/folders/wy/bd7zcwsj47dcjdv0j_tt7dk40000gn/T/\", \"CONDARC=/Users/guillaumethibault/.julia/conda/3/condarc-julia.yml\", \"ORIGINAL_XDG_CURRENT_DESKTOP=undefined\", \"LANG=en_CA.UTF-8\", \"LOGNAME=guillaumethibault\", \"SHLVL=2\", \"CONDA_PREFIX=/Users/guillaumethibault/.julia/conda/3\", \"MallocNanoZone=0\", \"SSH_AUTH_SOCK=/private/tmp/com.apple.launchd.npAowkJZYv/Listeners\", \"TERM_SESSION_ID=93A3DA42-B592-4193-8D4C-1E6F2833F3B1\", \"VSCODE_CLI=1\", \"KMP_DUPLICATE_LIB_OK=True\", \"USER=guillaumethibault\", \"HOME=/Users/guillaumethibault\", \"TERM=xterm-256color\", \"TERM_PROGRAM_VERSION=440\", \"ELECTRON_NO_ATTACH_CONSOLE=1\", \"JULIA_NUM_THREADS=\", \"PYTHONIOENCODING=UTF-8\", \"VSCODE_CWD=/Users/guillaumethibault/Documents/repo/statistics-dumb\"]), ProcessExited(1)) [1]\n",
     "output_type": "error",
     "traceback": [
      "failed process: Process(setenv(`/Users/guillaumethibault/.julia/conda/3/bin/conda install -y ScikitLearn`,[\"XPC_FLAGS=0x0\", \"COMMAND_MODE=unix2003\", \"PATH=/opt/local/bin:/opt/local/sbin:/Library/Frameworks/Python.framework/Versions/3.7/bin:/usr/local/bin:/usr/bin:/bin:/usr/sbin:/sbin:/Users/guillaumethibault/Documents/Poly/22_H/Qualité/sonar-scanner-4.7.0.2747-macosx/bin:/Applications/VMware Fusion.app/Contents/Public:/Library/TeX/texbin:/usr/local/share/dotnet:/opt/X11/bin:~/.dotnet/tools:/Library/Apple/usr/bin:/Library/Frameworks/Mono.framework/Versions/Current/Commands:/Applications/Xamarin Workbooks.app/Contents/SharedSupport/path-bin:/Applications/Visual Studio Code.app/Contents/Resources/app/bin\", \"PWD=/Users/guillaumethibault/Documents/repo/statistics-dumb\", \"VSCODE_CODE_CACHE_PATH=/Users/guillaumethibault/Library/Application Support/Code/CachedData/441438abd1ac652551dbe4d408dfcec8a499b8bf\", \"DISPLAY=:0\", \"VSCODE_HANDLES_UNCAUGHT_ERRORS=true\", \"TERM_PROGRAM=Apple_Terminal\", \"XPC_SERVICE_NAME=application.com.microsoft.VSCode.99884614.99884620.5BD5A986-7A4E-4BBA-911B-105EB7043668\", \"ELECTRON_RUN_AS_NODE=1\", \"VSCODE_NLS_CONFIG={\\\"locale\\\":\\\"en-us\\\",\\\"availableLanguages\\\":{},\\\"_languagePackSupport\\\":true}\", \"SHELL=/bin/zsh\", \"VSCODE_AMD_ENTRYPOINT=vs/workbench/api/node/extensionHostProcess\", \"__CF_USER_TEXT_ENCODING=0x1F5:0x0:0x52\", \"KMP_INIT_AT_FORK=FALSE\", \"VSCODE_PID=19274\", \"__CFBundleIdentifier=com.microsoft.VSCode\", \"VSCODE_IPC_HOOK=/Users/guillaumethibault/Library/Application Support/Code/1.75.1-main.sock\", \"TMPDIR=/var/folders/wy/bd7zcwsj47dcjdv0j_tt7dk40000gn/T/\", \"CONDARC=/Users/guillaumethibault/.julia/conda/3/condarc-julia.yml\", \"ORIGINAL_XDG_CURRENT_DESKTOP=undefined\", \"LANG=en_CA.UTF-8\", \"LOGNAME=guillaumethibault\", \"SHLVL=2\", \"CONDA_PREFIX=/Users/guillaumethibault/.julia/conda/3\", \"MallocNanoZone=0\", \"SSH_AUTH_SOCK=/private/tmp/com.apple.launchd.npAowkJZYv/Listeners\", \"TERM_SESSION_ID=93A3DA42-B592-4193-8D4C-1E6F2833F3B1\", \"VSCODE_CLI=1\", \"KMP_DUPLICATE_LIB_OK=True\", \"USER=guillaumethibault\", \"HOME=/Users/guillaumethibault\", \"TERM=xterm-256color\", \"TERM_PROGRAM_VERSION=440\", \"ELECTRON_NO_ATTACH_CONSOLE=1\", \"JULIA_NUM_THREADS=\", \"PYTHONIOENCODING=UTF-8\", \"VSCODE_CWD=/Users/guillaumethibault/Documents/repo/statistics-dumb\"]), ProcessExited(1)) [1]\n",
      "\n",
      "\n",
      "Stacktrace:\n",
      " [1] pipeline_error\n",
      "   @ ./process.jl:565 [inlined]\n",
      " [2] run(::Cmd; wait::Bool)\n",
      "   @ Base ./process.jl:480\n",
      " [3] run\n",
      "   @ ./process.jl:477 [inlined]\n",
      " [4] runconda(args::Cmd, env::String)\n",
      "   @ Conda ~/.julia/packages/Conda/kOnIE/src/Conda.jl:128\n",
      " [5] add(pkg::String, env::String; channel::String)\n",
      "   @ Conda ~/.julia/packages/Conda/kOnIE/src/Conda.jl:224\n",
      " [6] add (repeats 2 times)\n",
      "   @ ~/.julia/packages/Conda/kOnIE/src/Conda.jl:222 [inlined]\n",
      " [7] pyimport_conda(modulename::String, condapkg::String, channel::String)\n",
      "   @ PyCall ~/.julia/packages/PyCall/twYvK/src/PyCall.jl:721\n",
      " [8] pyimport_conda(modulename::String, condapkg::String)\n",
      "   @ PyCall ~/.julia/packages/PyCall/twYvK/src/PyCall.jl:715\n",
      " [9] top-level scope\n",
      "   @ ~/Documents/repo/statistics-dumb/biological-activity/analysis.ipynb:2"
     ]
    }
   ],
   "source": [
    "using PyCall\n",
    "pyimport_conda(\"sklearn.pls\", \"ScikitLearn\")"
   ]
  },
  {
   "cell_type": "markdown",
   "metadata": {},
   "source": []
  }
 ],
 "metadata": {
  "kernelspec": {
   "display_name": "Julia 1.8.4",
   "language": "julia",
   "name": "julia-1.8"
  },
  "language_info": {
   "file_extension": ".jl",
   "mimetype": "application/julia",
   "name": "julia",
   "version": "1.8.4"
  },
  "orig_nbformat": 4
 },
 "nbformat": 4,
 "nbformat_minor": 2
}
